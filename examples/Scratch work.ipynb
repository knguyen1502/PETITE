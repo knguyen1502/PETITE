{
 "cells": [
  {
   "cell_type": "code",
   "execution_count": 1,
   "metadata": {},
   "outputs": [],
   "source": [
    "from PETITE.shower import *\n",
    "import pickle as pk\n",
    "from matplotlib import pyplot as plt\n",
    "from tqdm import tqdm\n",
    "#from tqdm.notebook import tqdm\n",
    "\n",
    "import matplotlib\n",
    "\n",
    "from matplotlib.font_manager import FontProperties\n",
    "from matplotlib.ticker import FixedLocator, MaxNLocator\n",
    "import cProfile\n",
    "profile = cProfile.Profile()\n",
    "import pstats\n",
    "\n",
    "font0 = FontProperties()\n",
    "font = font0.copy()\n",
    "font.set_size(24)\n",
    "font.set_family('serif')\n",
    "labelfont=font0.copy()\n",
    "labelfont.set_size(20)\n",
    "labelfont.set_weight('bold')\n",
    "legfont=font0.copy()\n",
    "legfont.set_size(18)\n",
    "legfont.set_weight('bold')\n",
    "\n",
    "\n",
    "def set_size(w,h, ax=None):\n",
    "    \"\"\" Helper function to set figure size.\n",
    "        Input:\n",
    "            w, h: width, height in inches \"\"\"\n",
    "    if not ax: ax=plt.gca()\n",
    "    l = ax.figure.subplotpars.left\n",
    "    r = ax.figure.subplotpars.right\n",
    "    t = ax.figure.subplotpars.top\n",
    "    b = ax.figure.subplotpars.bottom\n",
    "    figw = float(w)/(r-l)\n",
    "    figh = float(h)/(t-b)\n",
    "    ax.figure.set_size_inches(figw, figh)"
   ]
  },
  {
   "cell_type": "code",
   "execution_count": 71,
   "metadata": {},
   "outputs": [],
   "source": [
    "#dark photon with mass 9 GeV\n",
    "particle_dict = {'PID':0, 'ID':0, 'generation_number':0, 'generation_process':'Input'}\n",
    "px, py, pz = 0, 0, np.sqrt(10**2-9**2)\n",
    "p0 = Particle([10, px, py, pz], [0,0,0], particle_dict)\n",
    "\n",
    "#daughter particles\n",
    "p1_dict = {\"PID\": 0, \"mass\": 3, 'parent_PID': 0}  # Example PID for gamma\n",
    "p2_dict = {\"PID\": 0, \"mass\": 3, 'parent_PID': 0}  # Example PID for gamma"
   ]
  },
  {
   "cell_type": "code",
   "execution_count": 72,
   "metadata": {},
   "outputs": [
    {
     "data": {
      "text/plain": [
       "{'PID': 0,\n",
       " 'ID': 0,\n",
       " 'parent_PID': 22,\n",
       " 'parent_ID': -1,\n",
       " 'generation_number': 0,\n",
       " 'generation_process': 'Input',\n",
       " 'weight': 1.0,\n",
       " 'mass': 9.0,\n",
       " 'stability': 'stable',\n",
       " 'production_time': 0.0,\n",
       " 'decay_time': 0.0,\n",
       " 'interaction_time': 0.0}"
      ]
     },
     "execution_count": 72,
     "metadata": {},
     "output_type": "execute_result"
    }
   ],
   "source": [
    "p0.get_ids()"
   ]
  },
  {
   "cell_type": "code",
   "execution_count": 73,
   "metadata": {},
   "outputs": [
    {
     "name": "stdout",
     "output_type": "stream",
     "text": [
      "Daughter Particle 1:\n",
      "Four-momentum: [ 6.54371773 -0.10703411  1.03882809  5.72098083]\n",
      "Position: [0 0 0]\n",
      "IDs: {'PID': 0, 'ID': 1, 'parent_PID': 0, 'parent_ID': -1, 'generation_number': 0, 'generation_process': 'Input', 'weight': 1.0, 'mass': 3, 'stability': 'stable', 'production_time': 0.0, 'decay_time': 0.0, 'interaction_time': 0.0}\n",
      "\n",
      "Daughter Particle 2:\n",
      "Four-momentum: [ 3.45628227  0.10703411 -1.03882809 -1.36208188]\n",
      "Position: [0 0 0]\n",
      "IDs: {'PID': 0, 'ID': 1, 'parent_PID': 0, 'parent_ID': -1, 'generation_number': 0, 'generation_process': 'Input', 'weight': 1.0, 'mass': 3, 'stability': 'stable', 'production_time': 0.0, 'decay_time': 0.0, 'interaction_time': 0.0}\n"
     ]
    }
   ],
   "source": [
    "daughter_particles = p0.two_body_decay(p1_dict, p2_dict)\n",
    "daughter_particle_1, daughter_particle_2 = daughter_particles\n",
    "\n",
    "print(\"Daughter Particle 1:\")\n",
    "print(\"Four-momentum:\", daughter_particle_1.get_p0())\n",
    "print(\"Position:\", daughter_particle_1.get_r0())\n",
    "print(\"IDs:\", daughter_particle_1.get_ids())\n",
    "\n",
    "print(\"\\nDaughter Particle 2:\")\n",
    "print(\"Four-momentum:\", daughter_particle_2.get_p0())\n",
    "print(\"Position:\", daughter_particle_2.get_r0())\n",
    "print(\"IDs:\", daughter_particle_2.get_ids())"
   ]
  },
  {
   "cell_type": "code",
   "execution_count": null,
   "metadata": {},
   "outputs": [],
   "source": [
    "#TO DO: figure out dark photon branching ratio (A' -> phi phi (chi chi ) = 1) (on-shell dark photon m_A' >= 2m_phi)\n",
    "\n"
   ]
  }
 ],
 "metadata": {
  "kernelspec": {
   "display_name": "base",
   "language": "python",
   "name": "python3"
  },
  "language_info": {
   "codemirror_mode": {
    "name": "ipython",
    "version": 3
   },
   "file_extension": ".py",
   "mimetype": "text/x-python",
   "name": "python",
   "nbconvert_exporter": "python",
   "pygments_lexer": "ipython3",
   "version": "3.12.7"
  }
 },
 "nbformat": 4,
 "nbformat_minor": 2
}
